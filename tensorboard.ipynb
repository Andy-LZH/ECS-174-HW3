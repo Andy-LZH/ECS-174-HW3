{
 "cells": [
  {
   "cell_type": "code",
   "execution_count": 2,
   "id": "318ed471-9e44-4f50-bdc0-4316da6a7b74",
   "metadata": {
    "execution": {
     "iopub.execute_input": "2023-06-07T19:40:39.376493Z",
     "iopub.status.busy": "2023-06-07T19:40:39.375832Z",
     "iopub.status.idle": "2023-06-07T19:40:45.407853Z",
     "shell.execute_reply": "2023-06-07T19:40:45.407081Z",
     "shell.execute_reply.started": "2023-06-07T19:40:39.376460Z"
    }
   },
   "outputs": [
    {
     "name": "stdout",
     "output_type": "stream",
     "text": [
      "Error: A logdir or db must be specified. For example `tensorboard --logdir mylogdir` or `tensorboard --db sqlite:~/.tensorboard.db`. Run `tensorboard --helpfull` for details and examples.\n"
     ]
    }
   ],
   "source": [
    "!tensorboard"
   ]
  }
 ],
 "metadata": {
  "kernelspec": {
   "display_name": "Python 3 (ipykernel)",
   "language": "python",
   "name": "python3"
  },
  "language_info": {
   "codemirror_mode": {
    "name": "ipython",
    "version": 3
   },
   "file_extension": ".py",
   "mimetype": "text/x-python",
   "name": "python",
   "nbconvert_exporter": "python",
   "pygments_lexer": "ipython3",
   "version": "3.9.16"
  }
 },
 "nbformat": 4,
 "nbformat_minor": 5
}
